{
 "cells": [
  {
   "cell_type": "code",
   "execution_count": 10,
   "metadata": {},
   "outputs": [],
   "source": [
    "import numpy as np\n",
    "import matplotlib.pyplot as plt "
   ]
  },
  {
   "cell_type": "code",
   "execution_count": null,
   "metadata": {},
   "outputs": [],
   "source": [
    "plt.xkcd()\n",
    "\n",
    "\n",
    "# eventually make this a text file\n",
    "vege_dict = {\n",
    "             202040:\n",
    "                ['chickpeas','yellow onion','red bell pepper','green lentils','']\n",
    "             202041:\n",
    "                ['yellow onion','peas','red onion','garlic','red bell pepper','tomato','green beans','black beans'],\n",
    "             202042: \n",
    "                ['yellow squash','yellow onion','jalapeno pepper','poblano pepper','shiitake mushroom','black beans',\n",
    "                 'black olives','hominy','radish','lime','sweet potato','ginger','garlic','scallion','chickpeas',\n",
    "                 'other leaf greens','avocado','red bell pepper','tomato','kale','cucumbers'],\n",
    "             202043:\n",
    "                ['kale','baby bella mushrooms','shallot','yellow onion','eggplant','tomato','green beans','water chestnuts',\n",
    "                 'spinach','red onion','black olives','red bell pepper','garlic','ginger','carrots']\n",
    "            }"
   ]
  },
  {
   "cell_type": "code",
   "execution_count": 8,
   "metadata": {},
   "outputs": [],
   "source": [
    "# eventually load vegedict from text file\n",
    "\n",
    "# iterate over vegedict to create: dict of occurences\n",
    "counts_dict = {}\n",
    "for veglist in vege_dict.values():\n",
    "    for veg in veglist:\n",
    "        if veg not in counts_dict:\n",
    "            counts_dict[veg] = 1\n",
    "        else:\n",
    "            counts_dict[veg] += 1\n",
    "\n",
    "# save the dict to a file\n",
    "\n",
    "# each time run, append new data to file"
   ]
  },
  {
   "cell_type": "code",
   "execution_count": 9,
   "metadata": {},
   "outputs": [
    {
     "data": {
      "text/plain": [
       "{'yellow squash': 1,\n",
       " 'yellow onion': 2,\n",
       " 'jalapeno pepper': 1,\n",
       " 'poblano pepper': 1,\n",
       " 'shiitake mushroom': 1,\n",
       " 'black beans': 1,\n",
       " 'black olives': 2,\n",
       " 'hominy': 1,\n",
       " 'radish': 1,\n",
       " 'lime': 1,\n",
       " 'sweet potato': 1,\n",
       " 'ginger': 2,\n",
       " 'garlic': 2,\n",
       " 'scallion': 1,\n",
       " 'chickpeas': 1,\n",
       " 'other leaf greens': 1,\n",
       " 'avocado': 1,\n",
       " 'red bell pepper': 2,\n",
       " 'tomato': 2,\n",
       " 'kale': 2,\n",
       " 'baby bella mushrooms': 1,\n",
       " 'shallot': 1,\n",
       " 'eggplant': 1,\n",
       " 'green beans': 1,\n",
       " 'water chestnuts': 1,\n",
       " 'spinach': 1,\n",
       " 'red onion': 1,\n",
       " 'carrots': 1}"
      ]
     },
     "execution_count": 9,
     "metadata": {},
     "output_type": "execute_result"
    }
   ],
   "source": [
    "counts_dict"
   ]
  },
  {
   "cell_type": "code",
   "execution_count": null,
   "metadata": {},
   "outputs": [],
   "source": []
  }
 ],
 "metadata": {
  "kernelspec": {
   "display_name": "Python 3",
   "language": "python",
   "name": "python3"
  },
  "language_info": {
   "codemirror_mode": {
    "name": "ipython",
    "version": 3
   },
   "file_extension": ".py",
   "mimetype": "text/x-python",
   "name": "python",
   "nbconvert_exporter": "python",
   "pygments_lexer": "ipython3",
   "version": "3.6.1"
  }
 },
 "nbformat": 4,
 "nbformat_minor": 2
}
